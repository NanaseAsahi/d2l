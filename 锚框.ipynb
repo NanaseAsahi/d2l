{
 "cells": [
  {
   "cell_type": "code",
   "execution_count": 5,
   "id": "fce4da8b",
   "metadata": {},
   "outputs": [],
   "source": [
    "%matplotlib inline\n",
    "import torch\n",
    "from d2l import torch as d2l\n",
    "\n",
    "torch.set_printoptions(2)"
   ]
  },
  {
   "cell_type": "code",
   "execution_count": 2,
   "id": "673bf4a3",
   "metadata": {},
   "outputs": [],
   "source": [
    "def multibox_prior(data, sizes, ratios):\n",
    "    pass"
   ]
  },
  {
   "cell_type": "code",
   "execution_count": 23,
   "id": "292080a7",
   "metadata": {},
   "outputs": [],
   "source": [
    "def IoU(boxes1, boxes2): \n",
    "    # (x1, y1, x2, y2)\n",
    "    # boxes1 代表 锚框 共N个\n",
    "    box_area = lambda boxes: ((boxes[:, 2] - boxes[:, 0]) * (boxes[:, 3] - boxes[:, 1]))\n",
    "    \n",
    "    areas1 = box_area(boxes1) #shape : (N, )\n",
    "    areas2 = box_area(boxes2) #shape : (M, )\n",
    "    # 借助None维度/unsqueeze来增加维度 即借助广播机制 计算每个box1 对 m 个box2的 max/min\n",
    "    inter_upperlefts = torch.max(boxes1[:, None, :2], boxes2[:, :2])\n",
    "    inter_lowerlefts = torch.min(boxes1[:, None, 2:], boxes2[:, 2:])\n",
    "    \n",
    "    # 限制最小值为0\n",
    "    # inters shape: m n 2\n",
    "    inters = (inter_lowerlefts - inter_upperlefts).clamp(min=0)\n",
    "    \n",
    "    inter_areas = inters[:, :, 0] * inters[:, :, 1]\n",
    "    union_areas = areas1[:, None] + areas2 - inter_areas"
   ]
  },
  {
   "cell_type": "code",
   "execution_count": 24,
   "id": "d9017a90",
   "metadata": {},
   "outputs": [
    {
     "data": {
      "text/plain": [
       "(tensor([[[1, 1]],\n",
       " \n",
       "         [[4, 4]],\n",
       " \n",
       "         [[3, 3]]]),\n",
       " tensor([[2, 2],\n",
       "         [0, 0]]),\n",
       " tensor([[[2, 2],\n",
       "          [1, 1]],\n",
       " \n",
       "         [[4, 4],\n",
       "          [4, 4]],\n",
       " \n",
       "         [[3, 3],\n",
       "          [3, 3]]]))"
      ]
     },
     "execution_count": 24,
     "metadata": {},
     "output_type": "execute_result"
    }
   ],
   "source": [
    "boxes1 = torch.tensor([[1, 1, 3, 3], [4, 4, 2, 2], [3, 3, 2, 2]]) # 3 4\n",
    "boxes2 = torch.tensor([[2, 2, 4, 4], [0, 0, 2, 2]])  # 2 4\n",
    "\n",
    "boxes1[:, None, :2], boxes2[:, :2], torch.max(boxes1[:, None, :2], boxes2[:, :2])"
   ]
  },
  {
   "cell_type": "code",
   "execution_count": 26,
   "id": "140bf601",
   "metadata": {},
   "outputs": [
    {
     "name": "stdout",
     "output_type": "stream",
     "text": [
      "torch.Size([3, 2, 2])\n"
     ]
    },
    {
     "data": {
      "text/plain": [
       "tensor([[0.14, 0.14],\n",
       "        [0.00, 0.00],\n",
       "        [0.00, 0.00]])"
      ]
     },
     "execution_count": 26,
     "metadata": {},
     "output_type": "execute_result"
    }
   ],
   "source": [
    "box_iou(boxes1, boxes2)"
   ]
  },
  {
   "cell_type": "code",
   "execution_count": null,
   "id": "7b8dfe93",
   "metadata": {},
   "outputs": [],
   "source": []
  }
 ],
 "metadata": {
  "kernelspec": {
   "display_name": "Python 3 (ipykernel)",
   "language": "python",
   "name": "python3"
  },
  "language_info": {
   "codemirror_mode": {
    "name": "ipython",
    "version": 3
   },
   "file_extension": ".py",
   "mimetype": "text/x-python",
   "name": "python",
   "nbconvert_exporter": "python",
   "pygments_lexer": "ipython3",
   "version": "3.9.19"
  }
 },
 "nbformat": 4,
 "nbformat_minor": 5
}
