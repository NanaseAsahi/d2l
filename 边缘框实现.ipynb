{
 "cells": [
  {
   "cell_type": "code",
   "execution_count": 1,
   "id": "a654e142",
   "metadata": {},
   "outputs": [],
   "source": [
    "%matplotlib inline\n",
    "import torch\n",
    "from d2l import torch as d2l"
   ]
  },
  {
   "cell_type": "code",
   "execution_count": 2,
   "id": "15b01e5c",
   "metadata": {},
   "outputs": [],
   "source": [
    "def box_corner_to_center(boxes):\n",
    "    \"\"\"\n",
    "    (左上，右下) 到 (中心，宽，高)\n",
    "    \"\"\"\n",
    "    \n",
    "    x1, y1, x2, y2 = boxes[:, 0], boxes[:, 1], boxes[:, 2], boxes[:, 3]\n",
    "    cx = (x1 + x2) / 2\n",
    "    cy = (y1 + y2) / 2\n",
    "    w = x2 - x1\n",
    "    h = y2 - y1\n",
    "    \n",
    "    boxes = torch.stack((cx, cy, w, h), axis=-1)\n",
    "    \n",
    "    return boxes"
   ]
  },
  {
   "cell_type": "code",
   "execution_count": 6,
   "id": "fe12f90f",
   "metadata": {},
   "outputs": [],
   "source": [
    "def box_center_to_corner(boxes):\n",
    "    cx, cy, w, h = boxes[:, 0], boxes[:, 1], boxes[:, 2], boxes[:, 3]\n",
    "    \n",
    "    x1 = cx - w/2\n",
    "    x2 = cx + w/2\n",
    "    y1 = cy - h/2\n",
    "    y2 = cy + h/2\n",
    "    \n",
    "    boxes = torch.stack((x1, y1, x2, y2), axis=-1)\n",
    "    \n",
    "    return boxes"
   ]
  },
  {
   "cell_type": "code",
   "execution_count": 7,
   "id": "a1d132a0",
   "metadata": {},
   "outputs": [],
   "source": [
    "# bbox是边界框的英文缩写\n",
    "dog_bbox, cat_bbox = [60.0, 45.0, 378.0, 516.0], [400.0, 112.0, 655.0, 493.0]"
   ]
  },
  {
   "cell_type": "code",
   "execution_count": 8,
   "id": "39c74782",
   "metadata": {},
   "outputs": [
    {
     "data": {
      "text/plain": [
       "tensor([[True, True, True, True],\n",
       "        [True, True, True, True]])"
      ]
     },
     "execution_count": 8,
     "metadata": {},
     "output_type": "execute_result"
    }
   ],
   "source": [
    "boxes = torch.tensor((dog_bbox, cat_bbox))\n",
    "box_center_to_corner(box_corner_to_center(boxes)) == boxes"
   ]
  },
  {
   "cell_type": "code",
   "execution_count": null,
   "id": "6271267d",
   "metadata": {},
   "outputs": [],
   "source": []
  }
 ],
 "metadata": {
  "kernelspec": {
   "display_name": "Python 3 (ipykernel)",
   "language": "python",
   "name": "python3"
  },
  "language_info": {
   "codemirror_mode": {
    "name": "ipython",
    "version": 3
   },
   "file_extension": ".py",
   "mimetype": "text/x-python",
   "name": "python",
   "nbconvert_exporter": "python",
   "pygments_lexer": "ipython3",
   "version": "3.9.19"
  }
 },
 "nbformat": 4,
 "nbformat_minor": 5
}
