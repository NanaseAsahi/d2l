{
 "cells": [
  {
   "cell_type": "code",
   "execution_count": 1,
   "id": "a6c35908",
   "metadata": {},
   "outputs": [],
   "source": [
    "import math\n",
    "import numpy as np\n",
    "import torch\n",
    "from torch import nn\n",
    "from d2l import torch as d2l"
   ]
  },
  {
   "cell_type": "code",
   "execution_count": 7,
   "id": "219f5366",
   "metadata": {},
   "outputs": [
    {
     "name": "stdout",
     "output_type": "stream",
     "text": [
      "[0.8184191]\n",
      "[0.38813585]\n"
     ]
    }
   ],
   "source": [
    "max_degree = 20  # 最大阶数\n",
    "n_train, n_test = 100, 100  # 训练集和测试集大小\n",
    "\n",
    "true_w = np.zeros(max_degree)  # 初始化系数,指数从0到20\n",
    "true_w[0:4] = np.array([5, 1.2, -3.4, 5.6])  # 只给0-3次方x赋系数，其余取0\n",
    "\n",
    "features = np.random.normal(size=(n_train+n_test, 1))\n",
    "\n",
    "# print(features.shape)  # (200, 1)\n",
    "np.random.shuffle(features)  # 打乱顺序\n",
    "poly_features = np.power(features, np.arange())"
   ]
  }
 ],
 "metadata": {
  "kernelspec": {
   "display_name": "Python 3 (ipykernel)",
   "language": "python",
   "name": "python3"
  },
  "language_info": {
   "codemirror_mode": {
    "name": "ipython",
    "version": 3
   },
   "file_extension": ".py",
   "mimetype": "text/x-python",
   "name": "python",
   "nbconvert_exporter": "python",
   "pygments_lexer": "ipython3",
   "version": "3.9.19"
  }
 },
 "nbformat": 4,
 "nbformat_minor": 5
}
