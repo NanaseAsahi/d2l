{
 "cells": [
  {
   "cell_type": "code",
   "execution_count": 1,
   "id": "1cce2238",
   "metadata": {},
   "outputs": [],
   "source": [
    "import torch\n",
    "import random\n",
    "from d2l import torch as d2l\n",
    "import matplotlib.pyplot as plt\n",
    "%matplotlib inline"
   ]
  },
  {
   "cell_type": "markdown",
   "id": "9931fa2f",
   "metadata": {},
   "source": [
    "# 构造一个数据集,以w和b为参数，添加噪声即可"
   ]
  },
  {
   "cell_type": "code",
   "execution_count": 10,
   "id": "90c3aee9",
   "metadata": {},
   "outputs": [
    {
     "name": "stdout",
     "output_type": "stream",
     "text": [
      "torch.Size([2])\n",
      "torch.Size([1000, 2])\n",
      "torch.Size([1000])\n"
     ]
    }
   ],
   "source": [
    "def synthetic_data(w, b, num_examples):\n",
    "    \"\"\"y = Xw + b + 噪声\"\"\"\n",
    "    X = torch.normal(0, 1, size=(num_examples, len(w)))\n",
    "    print(w.shape)\n",
    "    print(X.shape)\n",
    "    y = torch.matmul(X, w) + b  # torch.matmul约等于mv与mm,dot三个函数\n",
    "    print(y.shape)\n",
    "    y += torch.normal(0, 0.01, y.shape)\n",
    "    return X, y.reshape(-1, 1)\n",
    "\n",
    "true_w = torch.tensor([2, -3.4])\n",
    "true_b = 4.2\n",
    "\n",
    "features, labels = synthetic_data(true_w, true_b, 1000)"
   ]
  },
  {
   "cell_type": "code",
   "execution_count": 11,
   "id": "f5158edf",
   "metadata": {},
   "outputs": [
    {
     "data": {
      "text/plain": [
       "<matplotlib.collections.PathCollection at 0x2269c464d60>"
      ]
     },
     "execution_count": 11,
     "metadata": {},
     "output_type": "execute_result"
    },
    {
     "data": {
      "image/png": "[encoded data removed]",
      "text/plain": [
       "<Figure size 640x480 with 1 Axes>"
      ]
     },
     "metadata": {},
     "output_type": "display_data"
    }
   ],
   "source": [
    "plt.scatter(features[:, 1], labels)"
   ]
  },
  {
   "cell_type": "code",
   "execution_count": 25,
   "id": "57a82bf6",
   "metadata": {},
   "outputs": [
    {
     "name": "stdout",
     "output_type": "stream",
     "text": [
      "[1, 4, 10, 20, 25, 16, 15, 8, 9, 7, 14, 27, 24, 11, 21, 23, 3, 2, 26, 22, 18, 13, 19, 28, 0, 5, 17, 12, 6]\n",
      "torch.Size([35, 1])\n",
      "torch.Size([35, 1])\n",
      "torch.Size([35, 1])\n",
      "torch.Size([35, 1])\n",
      "torch.Size([35, 1])\n",
      "torch.Size([35, 1])\n",
      "torch.Size([35, 1])\n",
      "torch.Size([35, 1])\n",
      "torch.Size([35, 1])\n",
      "torch.Size([35, 1])\n",
      "torch.Size([35, 1])\n",
      "torch.Size([35, 1])\n",
      "torch.Size([35, 1])\n",
      "torch.Size([35, 1])\n",
      "torch.Size([35, 1])\n",
      "torch.Size([35, 1])\n",
      "torch.Size([35, 1])\n",
      "torch.Size([35, 1])\n",
      "torch.Size([35, 1])\n",
      "torch.Size([35, 1])\n",
      "torch.Size([35, 1])\n",
      "torch.Size([35, 1])\n",
      "torch.Size([35, 1])\n",
      "torch.Size([20, 1])\n",
      "torch.Size([35, 1])\n",
      "torch.Size([35, 1])\n",
      "torch.Size([35, 1])\n",
      "torch.Size([35, 1])\n",
      "torch.Size([35, 1])\n"
     ]
    }
   ],
   "source": [
    "def data_batch(batch_size, features, labels):\n",
    "    \"\"\"\n",
    "    自己写的划分batch代码，主要问题有:\n",
    "    1.shuffle时对每个batch的编号进行了shuffle，\n",
    "    所以实际上划分出来的batch只是原本数据中对应编号*batch_size-对应编号+batchsize的数据集合，\n",
    "    比如以batch_size为10为例，编号为2时，获得的仍然是原数据中第20个-第20+10-1个数据，这些数据的相对位置并没有打乱\n",
    "    \n",
    "    2.for循环中的索引完全相同，所以可以单独用一个变量表示\n",
    "    \"\"\"\n",
    "    batch_num = len(labels) // batch_size + 1\n",
    "    indices = list(range(batch_num))\n",
    "    random.shuffle(indices)\n",
    "    print(indices)\n",
    "    \n",
    "    for i in indices:\n",
    "        fea_batch = features[i*batch_size:min((i+1)*batch_size, len(features))]\n",
    "        lab_batch = labels[i*batch_size:min((i+1)*batch_size, len(features))]\n",
    "        \n",
    "        yield fea_batch, lab_batch\n",
    "        \n",
    "batch_size=35\n",
    "\n",
    "for X, y in data_batch(batch_size, features, labels):\n",
    "    print(y.shape)"
   ]
  },
  {
   "cell_type": "code",
   "execution_count": 28,
   "id": "543dfce1",
   "metadata": {},
   "outputs": [
    {
     "name": "stdout",
     "output_type": "stream",
     "text": [
      "torch.Size([65, 2])\n",
      "torch.Size([65, 2])\n",
      "torch.Size([65, 2])\n",
      "torch.Size([65, 2])\n",
      "torch.Size([65, 2])\n",
      "torch.Size([65, 2])\n",
      "torch.Size([65, 2])\n",
      "torch.Size([65, 2])\n",
      "torch.Size([65, 2])\n",
      "torch.Size([65, 2])\n",
      "torch.Size([65, 2])\n",
      "torch.Size([65, 2])\n",
      "torch.Size([65, 2])\n",
      "torch.Size([65, 2])\n",
      "torch.Size([65, 2])\n",
      "torch.Size([25, 2])\n"
     ]
    }
   ],
   "source": [
    "def data_iter(batch_size, features, labels):\n",
    "    total_num = len(features)\n",
    "    indices = list(range(total_num))\n",
    "    random.shuffle(indices)\n",
    "    \n",
    "    for i in range(0, total_num, batch_size):\n",
    "        batch_indice = indices[i:min(i+batch_size, total_num)]\n",
    "        \n",
    "        fea_batch = features[batch_indice]\n",
    "        lab_batch = labels[batch_indice]\n",
    "        \n",
    "        yield fea_batch, lab_batch  # yield与return同等级，但yield分次执行，调用一次next执行一次\n",
    "        \n",
    "batch_size = 65\n",
    "for X,y in data_iter(batch_size, features, labels):\n",
    "    print(X.shape)"
   ]
  },
  {
   "cell_type": "markdown",
   "id": "f019adc4",
   "metadata": {},
   "source": [
    "# 初始化模型参数"
   ]
  },
  {
   "cell_type": "code",
   "execution_count": 38,
   "id": "142102b5",
   "metadata": {},
   "outputs": [],
   "source": [
    "w = torch.normal(0, 0.01, size=(2, 1), requires_grad=True)\n",
    "# b = torch.zeros_like(labels, requires_grad=True) 反例\n",
    "b = torch.zeros(1, requires_grad=True)  # 利用广播机制，否则在分批次时容易出现向量对不齐的情况"
   ]
  },
  {
   "cell_type": "code",
   "execution_count": 30,
   "id": "c43dea86",
   "metadata": {},
   "outputs": [],
   "source": [
    "def linreg(X, w, b):\n",
    "    return torch.matmul(X, w) + b"
   ]
  },
  {
   "cell_type": "code",
   "execution_count": 40,
   "id": "0524a657",
   "metadata": {},
   "outputs": [],
   "source": [
    "def squared_loss(y_hat, y):\n",
    "    return 1/2 * (y_hat - y.reshape(y_hat.shape)) ** 2  # 可能一个为行向量一个为列向量，故使用reshape调整至相同形状"
   ]
  },
  {
   "cell_type": "code",
   "execution_count": 34,
   "id": "8ee73957",
   "metadata": {},
   "outputs": [],
   "source": [
    "def sgd(params, lr, batch_size):\n",
    "    \"\"\"随机梯度下降\"\"\"\n",
    "    # params为一个参数列表\n",
    "    # sgd实际传入的是引用，因此w和b可以被改变\n",
    "    with torch.no_grad():  # 更新参数时不需要计算梯度\n",
    "        for param in params:\n",
    "            param -= lr * param.grad / batch_size\n",
    "            param.grad.zero_()  # 自动清除梯度，防止梯度累计"
   ]
  },
  {
   "cell_type": "code",
   "execution_count": 42,
   "id": "d560a49c",
   "metadata": {},
   "outputs": [
    {
     "name": "stdout",
     "output_type": "stream",
     "text": [
      "epoch1, loss0.3049507439136505\n",
      "epoch2, loss0.11099302768707275\n",
      "epoch3, loss0.04061746969819069\n",
      "epoch4, loss0.01496309507638216\n",
      "epoch5, loss0.005556646268814802\n"
     ]
    }
   ],
   "source": [
    "lr = 0.03\n",
    "num_epoch = 5\n",
    "model = linreg\n",
    "loss = squared_loss\n",
    "\n",
    "for epoch in range(num_epoch):\n",
    "    for X, y in data_iter(batch_size, features, labels):\n",
    "        y_hat = model(X, w, b)\n",
    "        l = loss(y_hat, y)  # l是一个长为batch_size大小的向量\n",
    "        l.sum().backward()\n",
    "        sgd([w, b], lr, batch_size)  # sgd实际传入的是引用，因此w和b可以被改变\n",
    "    with torch.no_grad():\n",
    "        train_l = loss(model(features, w, b), labels)  # 计算整个数据集的loss\n",
    "        print(f'epoch{epoch+1}, loss{float(train_l.mean())}')"
   ]
  },
  {
   "cell_type": "code",
   "execution_count": null,
   "id": "4e018d79",
   "metadata": {},
   "outputs": [],
   "source": []
  }
 ],
 "metadata": {
  "kernelspec": {
   "display_name": "Python 3 (ipykernel)",
   "language": "python",
   "name": "python3"
  },
  "language_info": {
   "codemirror_mode": {
    "name": "ipython",
    "version": 3
   },
   "file_extension": ".py",
   "mimetype": "text/x-python",
   "name": "python",
   "nbconvert_exporter": "python",
   "pygments_lexer": "ipython3",
   "version": "3.9.19"
  }
 },
 "nbformat": 4,
 "nbformat_minor": 5
}
