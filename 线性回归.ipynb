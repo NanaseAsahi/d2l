{
 "cells": [
  {
   "cell_type": "code",
   "execution_count": 1,
   "id": "1cce2238",
   "metadata": {},
   "outputs": [],
   "source": [
    "import torch\n",
    "import random\n",
    "from d2l import torch as d2l\n",
    "import matplotlib.pyplot as plt\n",
    "%matplotlib inline"
   ]
  },
  {
   "cell_type": "markdown",
   "id": "9931fa2f",
   "metadata": {},
   "source": [
    "# 构造一个数据集,以w和b为参数，添加噪声即可"
   ]
  },
  {
   "cell_type": "code",
   "execution_count": 2,
   "id": "90c3aee9",
   "metadata": {},
   "outputs": [],
   "source": [
    "def synthetic_data(w, b, num_examples):\n",
    "    \"\"\"y = Xw + b + 噪声\"\"\"\n",
    "    X = torch.normal(0, 1, size=(num_examples, len(w)))\n",
    "#     print(w.shape)\n",
    "#     print(X.shape)\n",
    "    y = torch.matmul(X, w) + b  # torch.matmul约等于mv与mm,dot三个函数\n",
    "#     print(y.shape)\n",
    "    y += torch.normal(0, 0.01, y.shape)\n",
    "    return X, y.reshape(-1, 1)\n",
    "\n",
    "true_w = torch.tensor([2, -3.4])\n",
    "true_b = 4.2\n",
    "\n",
    "features, labels = synthetic_data(true_w, true_b, 1000)"
   ]
  },
  {
   "cell_type": "code",
   "execution_count": 3,
   "id": "f5158edf",
   "metadata": {},
   "outputs": [
    {
     "data": {
      "text/plain": [
       "<matplotlib.collections.PathCollection at 0x20952752eb0>"
      ]
     },
     "execution_count": 3,
     "metadata": {},
     "output_type": "execute_result"
    },
    {
     "data": {
      "image/png": "[encoded data removed]",
      "text/plain": [
       "<Figure size 640x480 with 1 Axes>"
      ]
     },
     "metadata": {},
     "output_type": "display_data"
    }
   ],
   "source": [
    "plt.scatter(features[:, 1], labels)"
   ]
  },
  {
   "cell_type": "code",
   "execution_count": 4,
   "id": "57a82bf6",
   "metadata": {},
   "outputs": [
    {
     "name": "stdout",
     "output_type": "stream",
     "text": [
      "[15, 28, 13, 17, 6, 16, 9, 25, 5, 10, 22, 7, 27, 11, 1, 24, 12, 4, 18, 26, 23, 3, 0, 20, 8, 14, 21, 19, 2]\n",
      "torch.Size([35, 1])\n",
      "torch.Size([20, 1])\n",
      "torch.Size([35, 1])\n",
      "torch.Size([35, 1])\n",
      "torch.Size([35, 1])\n",
      "torch.Size([35, 1])\n",
      "torch.Size([35, 1])\n",
      "torch.Size([35, 1])\n",
      "torch.Size([35, 1])\n",
      "torch.Size([35, 1])\n",
      "torch.Size([35, 1])\n",
      "torch.Size([35, 1])\n",
      "torch.Size([35, 1])\n",
      "torch.Size([35, 1])\n",
      "torch.Size([35, 1])\n",
      "torch.Size([35, 1])\n",
      "torch.Size([35, 1])\n",
      "torch.Size([35, 1])\n",
      "torch.Size([35, 1])\n",
      "torch.Size([35, 1])\n",
      "torch.Size([35, 1])\n",
      "torch.Size([35, 1])\n",
      "torch.Size([35, 1])\n",
      "torch.Size([35, 1])\n",
      "torch.Size([35, 1])\n",
      "torch.Size([35, 1])\n",
      "torch.Size([35, 1])\n",
      "torch.Size([35, 1])\n",
      "torch.Size([35, 1])\n"
     ]
    }
   ],
   "source": [
    "def data_batch(batch_size, features, labels):\n",
    "    \"\"\"\n",
    "    自己写的划分batch代码，主要问题有:\n",
    "    1.shuffle时对每个batch的编号进行了shuffle，\n",
    "    所以实际上划分出来的batch只是原本数据中对应编号*batch_size-对应编号+batchsize的数据集合，\n",
    "    比如以batch_size为10为例，编号为2时，获得的仍然是原数据中第20个-第20+10-1个数据，这些数据的相对位置并没有打乱\n",
    "    \n",
    "    2.for循环中的索引完全相同，所以可以单独用一个变量表示\n",
    "    \"\"\"\n",
    "    batch_num = len(labels) // batch_size + 1\n",
    "    indices = list(range(batch_num))\n",
    "    random.shuffle(indices)\n",
    "    print(indices)\n",
    "    \n",
    "    for i in indices:\n",
    "        fea_batch = features[i*batch_size:min((i+1)*batch_size, len(features))]\n",
    "        lab_batch = labels[i*batch_size:min((i+1)*batch_size, len(features))]\n",
    "        \n",
    "        yield fea_batch, lab_batch\n",
    "        \n",
    "batch_size=35\n",
    "\n",
    "for X, y in data_batch(batch_size, features, labels):\n",
    "    print(y.shape)"
   ]
  },
  {
   "cell_type": "code",
   "execution_count": 5,
   "id": "543dfce1",
   "metadata": {},
   "outputs": [
    {
     "name": "stdout",
     "output_type": "stream",
     "text": [
      "torch.Size([65, 2])\n",
      "torch.Size([65, 2])\n",
      "torch.Size([65, 2])\n",
      "torch.Size([65, 2])\n",
      "torch.Size([65, 2])\n",
      "torch.Size([65, 2])\n",
      "torch.Size([65, 2])\n",
      "torch.Size([65, 2])\n",
      "torch.Size([65, 2])\n",
      "torch.Size([65, 2])\n",
      "torch.Size([65, 2])\n",
      "torch.Size([65, 2])\n",
      "torch.Size([65, 2])\n",
      "torch.Size([65, 2])\n",
      "torch.Size([65, 2])\n",
      "torch.Size([25, 2])\n"
     ]
    }
   ],
   "source": [
    "def data_iter(batch_size, features, labels):\n",
    "    total_num = len(features)\n",
    "    indices = list(range(total_num))\n",
    "    random.shuffle(indices)\n",
    "    \n",
    "    for i in range(0, total_num, batch_size):\n",
    "        batch_indice = indices[i:min(i+batch_size, total_num)]\n",
    "        \n",
    "        fea_batch = features[batch_indice]\n",
    "        lab_batch = labels[batch_indice]\n",
    "        \n",
    "        yield fea_batch, lab_batch  # yield与return同等级，但yield分次执行，调用一次next执行一次\n",
    "        \n",
    "batch_size = 65\n",
    "for X,y in data_iter(batch_size, features, labels):\n",
    "    print(X.shape)"
   ]
  },
  {
   "cell_type": "markdown",
   "id": "f019adc4",
   "metadata": {},
   "source": [
    "# 初始化模型参数"
   ]
  },
  {
   "cell_type": "code",
   "execution_count": 6,
   "id": "142102b5",
   "metadata": {},
   "outputs": [],
   "source": [
    "w = torch.normal(0, 0.01, size=(2, 1), requires_grad=True)\n",
    "# b = torch.zeros_like(labels, requires_grad=True) 反例\n",
    "b = torch.zeros(1, requires_grad=True)  # 利用广播机制，否则在分批次时容易出现向量对不齐的情况"
   ]
  },
  {
   "cell_type": "code",
   "execution_count": 7,
   "id": "c43dea86",
   "metadata": {},
   "outputs": [],
   "source": [
    "def linreg(X, w, b):\n",
    "    return torch.matmul(X, w) + b"
   ]
  },
  {
   "cell_type": "code",
   "execution_count": 8,
   "id": "0524a657",
   "metadata": {},
   "outputs": [],
   "source": [
    "def squared_loss(y_hat, y):\n",
    "    return 1/2 * (y_hat - y.reshape(y_hat.shape)) ** 2  # 可能一个为行向量一个为列向量，故使用reshape调整至相同形状"
   ]
  },
  {
   "cell_type": "code",
   "execution_count": 9,
   "id": "8ee73957",
   "metadata": {},
   "outputs": [],
   "source": [
    "def sgd(params, lr, batch_size):\n",
    "    \"\"\"随机梯度下降\"\"\"\n",
    "    # params为一个参数列表\n",
    "    # sgd实际传入的是引用，因此w和b可以被改变\n",
    "    with torch.no_grad():  # 更新参数时不需要计算梯度\n",
    "        for param in params:\n",
    "            param -= lr * param.grad / batch_size\n",
    "            param.grad.zero_()  # 自动清除梯度，防止梯度累计"
   ]
  },
  {
   "cell_type": "code",
   "execution_count": 10,
   "id": "d560a49c",
   "metadata": {},
   "outputs": [
    {
     "name": "stdout",
     "output_type": "stream",
     "text": [
      "epoch1, loss6.444716453552246\n",
      "epoch2, loss2.716700792312622\n",
      "epoch3, loss1.145408034324646\n",
      "epoch4, loss0.4827690124511719\n",
      "epoch5, loss0.2034820318222046\n"
     ]
    }
   ],
   "source": [
    "lr = 0.03\n",
    "num_epoch = 5\n",
    "model = linreg\n",
    "loss = squared_loss\n",
    "\n",
    "for epoch in range(num_epoch):\n",
    "    for X, y in data_iter(batch_size, features, labels):\n",
    "        y_hat = model(X, w, b)\n",
    "        l = loss(y_hat, y)  # l是一个长为batch_size大小的向量\n",
    "        l.sum().backward()\n",
    "        sgd([w, b], lr, batch_size)  # sgd实际传入的是引用，因此w和b可以被改变\n",
    "    with torch.no_grad():\n",
    "        train_l = loss(model(features, w, b), labels)  # 计算整个数据集的loss\n",
    "        print(f'epoch{epoch+1}, loss{float(train_l.mean())}')"
   ]
  },
  {
   "cell_type": "code",
   "execution_count": 11,
   "id": "4e018d79",
   "metadata": {},
   "outputs": [
    {
     "name": "stdout",
     "output_type": "stream",
     "text": [
      "tensor([ 2.0000, -3.4000])\n",
      "tensor([[ 1.7704],\n",
      "        [-3.0056]], requires_grad=True)\n",
      "w的估计误差为tensor([ 0.2296, -0.3944], grad_fn=<SubBackward0>)\n",
      "b的估计误差为tensor([0.4831], grad_fn=<RsubBackward1>)\n"
     ]
    }
   ],
   "source": [
    "# w和b的估计误差\n",
    "print(true_w)\n",
    "print(w)\n",
    "print(f'w的估计误差为{true_w - w.reshape(true_w.shape)}')  # w和true_w可能对不齐，使用reshape\n",
    "print(f'b的估计误差为{true_b - b}')"
   ]
  },
  {
   "cell_type": "markdown",
   "id": "0b953b4c",
   "metadata": {},
   "source": [
    "# 简洁实现"
   ]
  },
  {
   "cell_type": "code",
   "execution_count": 12,
   "id": "5fc6b8f7",
   "metadata": {},
   "outputs": [],
   "source": [
    "import numpy as np\n",
    "import torch\n",
    "from torch.utils import data\n",
    "from d2l import torch as d2l\n",
    "import torch.nn as nn"
   ]
  },
  {
   "cell_type": "code",
   "execution_count": 22,
   "id": "973ed701",
   "metadata": {},
   "outputs": [
    {
     "name": "stdout",
     "output_type": "stream",
     "text": [
      "torch.Size([1000, 2])\n",
      "torch.Size([1000, 1])\n"
     ]
    }
   ],
   "source": [
    "true_w = torch.tensor([2, -3.4])\n",
    "true_b = 4.2\n",
    "features, labels = synthetic_data(true_w, true_b, 1000)  # 人工生成数据\n",
    "print(features.shape)\n",
    "print(labels.shape)"
   ]
  },
  {
   "cell_type": "code",
   "execution_count": 23,
   "id": "7814a9a9",
   "metadata": {},
   "outputs": [
    {
     "name": "stdout",
     "output_type": "stream",
     "text": [
      "tensor([[ 0.9437, -0.1467],\n",
      "        [ 2.3130,  0.3927],\n",
      "        [ 0.9659,  1.0598],\n",
      "        [ 1.4067,  1.6072],\n",
      "        [ 1.7872, -0.0613],\n",
      "        [-0.7752, -1.2229],\n",
      "        [ 0.4261,  0.2299],\n",
      "        [-1.0937,  0.6101],\n",
      "        [-0.1682, -0.7411],\n",
      "        [-1.1005,  1.8728]]) \n",
      " tensor([[ 6.5880],\n",
      "        [ 7.4690],\n",
      "        [ 2.5458],\n",
      "        [ 1.5465],\n",
      "        [ 7.9881],\n",
      "        [ 6.7963],\n",
      "        [ 4.2743],\n",
      "        [-0.0635],\n",
      "        [ 6.3860],\n",
      "        [-4.3701]])\n"
     ]
    }
   ],
   "source": [
    "def load_array(data_arrays, batch_size, is_train=True):\n",
    "    \"\"\"借助API构造一个dataloader\"\"\"\n",
    "    # 将第一个维度长度相等的向量一一对应地组合在一起\n",
    "    # eg:每一个元素为tensor(feature, label)\n",
    "    dataset = data.TensorDataset(*data_arrays)  \n",
    "    return data.DataLoader(dataset, batch_size, shuffle=True)\n",
    "\n",
    "batch_size = 10\n",
    "data_iter = load_array((features, labels), batch_size)\n",
    "\n",
    "for X, y in data_iter:\n",
    "    print(X, '\\n', y)\n",
    "    break"
   ]
  },
  {
   "cell_type": "code",
   "execution_count": 24,
   "id": "15bf0068",
   "metadata": {},
   "outputs": [],
   "source": [
    "model = nn.Sequential(nn.Linear(2, 1))  # 线性回归即为单层的神经网络"
   ]
  },
  {
   "cell_type": "markdown",
   "id": "af9655d5",
   "metadata": {},
   "source": [
    "# 初始化模型参数"
   ]
  },
  {
   "cell_type": "code",
   "execution_count": 25,
   "id": "dfbc25af",
   "metadata": {},
   "outputs": [
    {
     "name": "stdout",
     "output_type": "stream",
     "text": [
      "w:tensor([[ 0.6544, -0.5912]])\n",
      "b:tensor([0.4726])\n"
     ]
    }
   ],
   "source": [
    "# model[0].weight.data.normal_(0, 0.01)  # 通过weight访问w，用normal_来替换原有w\n",
    "# model[0].bias.data.fill_(0)\n",
    "print(f\"w:{model[0].weight.data}\")\n",
    "print(f\"b:{model[0].bias.data}\")"
   ]
  },
  {
   "cell_type": "code",
   "execution_count": 26,
   "id": "c69a19fd",
   "metadata": {},
   "outputs": [],
   "source": [
    "loss = nn.MSELoss()"
   ]
  },
  {
   "cell_type": "code",
   "execution_count": 27,
   "id": "f5550f23",
   "metadata": {},
   "outputs": [
    {
     "name": "stdout",
     "output_type": "stream",
     "text": [
      "Parameter containing:\n",
      "tensor([[ 0.6544, -0.5912]], requires_grad=True)\n",
      "Parameter containing:\n",
      "tensor([0.4726], requires_grad=True)\n"
     ]
    }
   ],
   "source": [
    "for i in model.parameters():\n",
    "    print(i)"
   ]
  },
  {
   "cell_type": "code",
   "execution_count": 28,
   "id": "d34b38fc",
   "metadata": {},
   "outputs": [],
   "source": [
    "trainer = torch.optim.SGD(model.parameters(), lr=0.03)"
   ]
  },
  {
   "cell_type": "code",
   "execution_count": 29,
   "id": "0458ffd7",
   "metadata": {},
   "outputs": [
    {
     "name": "stdout",
     "output_type": "stream",
     "text": [
      "epoch1, loss0.000216\n",
      "epoch2, loss0.000101\n",
      "epoch3, loss0.000100\n",
      "epoch4, loss0.000100\n",
      "epoch5, loss0.000101\n",
      "epoch6, loss0.000100\n",
      "epoch7, loss0.000100\n",
      "epoch8, loss0.000100\n",
      "epoch9, loss0.000100\n",
      "epoch10, loss0.000100\n"
     ]
    }
   ],
   "source": [
    "num_epoch = 10\n",
    "for epoch in range(num_epoch):\n",
    "    for X, y in data_iter:\n",
    "        l = loss(model(X), y)\n",
    "        trainer.zero_grad()\n",
    "        l.backward()\n",
    "        trainer.step()\n",
    "        \n",
    "    l = loss(model(features), labels)\n",
    "    print(f'epoch{epoch+1}, loss{l:f}')"
   ]
  },
  {
   "cell_type": "code",
   "execution_count": 30,
   "id": "ba102b82",
   "metadata": {},
   "outputs": [
    {
     "name": "stdout",
     "output_type": "stream",
     "text": [
      "Parameter containing:\n",
      "tensor([[ 1.9998, -3.4004]], requires_grad=True)\n",
      "Parameter containing:\n",
      "tensor([4.2003], requires_grad=True)\n"
     ]
    }
   ],
   "source": [
    "print(model[0].weight)\n",
    "print(model[0].bias)"
   ]
  }
 ],
 "metadata": {
  "kernelspec": {
   "display_name": "Python 3 (ipykernel)",
   "language": "python",
   "name": "python3"
  },
  "language_info": {
   "codemirror_mode": {
    "name": "ipython",
    "version": 3
   },
   "file_extension": ".py",
   "mimetype": "text/x-python",
   "name": "python",
   "nbconvert_exporter": "python",
   "pygments_lexer": "ipython3",
   "version": "3.9.19"
  }
 },
 "nbformat": 4,
 "nbformat_minor": 5
}
