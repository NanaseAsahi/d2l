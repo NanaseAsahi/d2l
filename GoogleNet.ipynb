{
 "cells": [
  {
   "cell_type": "code",
   "execution_count": 1,
   "id": "389f0afe",
   "metadata": {},
   "outputs": [],
   "source": [
    "import torch\n",
    "import torch.nn as nn\n",
    "from torch.nn import functional as F\n",
    "from d2l import torch as d2l"
   ]
  },
  {
   "cell_type": "code",
   "execution_count": 4,
   "id": "71830b88",
   "metadata": {},
   "outputs": [],
   "source": [
    "class Inception(nn.Module):\n",
    "    def __init__(self, in_channels, c1, c2, c3, c4, **kwargs):\n",
    "        super(Inception, self).__init__(**kwargs)\n",
    "        \n",
    "        self.p1_1 = nn.Conv2d(in_channels, c1, kernel_size=1)\n",
    "        \n",
    "        self.p2_1 = nn.Conv2d(in_channels, c2[0], kernel_size=1)\n",
    "        self.p2_2 = nn.Conv2d(c2[0], c2[1], kernel_size=3, padding=1)\n",
    "        \n",
    "        self.p3_1 = nn.Conv2d(in_channels, c3[0], kernel_size=1)\n",
    "        self.p3_2 = nn.Conv2d(c3[0], c3[1], kernel_size=3, padding=1)\n",
    "        \n",
    "        self.p4_1 = nn.Conv2d(in_channels, c4[0], kernel_size=3, padding=1)\n",
    "        self.p4_2 = nn.COnv2d(c4[0], c4[1], kernel_size=1)\n",
    "    \n",
    "    def forward(self, x):\n",
    "        p1 = F.relu(self.p1_1(x))\n",
    "        p2 = F.relu(self.p2_2(F.relu(self.p2_1)))\n",
    "        p3 = F.relu(self.p3_2(F.relu(self.p3_1)))\n",
    "        p4 = F.relu(self.p4_2(F.relu(self.p4_1)))\n",
    "        \n",
    "        # 在channel维度上叠加\n",
    "        return torch.cat((p1, p2, p3, p4), dim=1)"
   ]
  },
  {
   "cell_type": "code",
   "execution_count": 14,
   "id": "10ba3b6d",
   "metadata": {},
   "outputs": [
    {
     "data": {
      "text/plain": [
       "(tensor([[[[2., 4., 0.],\n",
       "           [2., 2., 3.],\n",
       "           [2., 3., 3.]],\n",
       " \n",
       "          [[3., 4., 2.],\n",
       "           [4., 4., 0.],\n",
       "           [4., 4., 0.]]],\n",
       " \n",
       " \n",
       "         [[[3., 4., 3.],\n",
       "           [0., 2., 0.],\n",
       "           [0., 3., 4.]],\n",
       " \n",
       "          [[2., 0., 3.],\n",
       "           [2., 1., 1.],\n",
       "           [3., 3., 0.]]],\n",
       " \n",
       " \n",
       "         [[[2., 1., 0.],\n",
       "           [0., 0., 3.],\n",
       "           [2., 2., 4.]],\n",
       " \n",
       "          [[3., 1., 0.],\n",
       "           [2., 2., 2.],\n",
       "           [2., 1., 3.]]],\n",
       " \n",
       " \n",
       "         [[[3., 0., 0.],\n",
       "           [0., 3., 0.],\n",
       "           [0., 3., 2.]],\n",
       " \n",
       "          [[0., 3., 3.],\n",
       "           [2., 0., 3.],\n",
       "           [0., 2., 4.]]]], dtype=torch.float64),\n",
       " tensor([[[2.5000, 2.2500, 0.7500],\n",
       "          [0.5000, 1.7500, 1.5000],\n",
       "          [1.0000, 2.7500, 3.2500]],\n",
       " \n",
       "         [[2.0000, 2.0000, 2.0000],\n",
       "          [2.5000, 1.7500, 1.5000],\n",
       "          [2.2500, 2.5000, 1.7500]]], dtype=torch.float64))"
      ]
     },
     "execution_count": 14,
     "metadata": {},
     "output_type": "execute_result"
    }
   ],
   "source": [
    "X = torch.randint(0, 5, size=(4, 2, 3, 3), dtype=float)\n",
    "X, X.mean(dim=0)"
   ]
  },
  {
   "cell_type": "code",
   "execution_count": 2,
   "id": "240c79a6",
   "metadata": {},
   "outputs": [
    {
     "data": {
      "text/plain": [
       "tensor([[[ 4.5000]],\n",
       "\n",
       "        [[14.5000]]])"
      ]
     },
     "execution_count": 2,
     "metadata": {},
     "output_type": "execute_result"
    }
   ],
   "source": [
    "weights = torch.ones((2, 10)) * 0.1\n",
    "values = torch.arange(20.0).reshape((2, 10))\n",
    "torch.bmm(weights.unsqueeze(1), values.unsqueeze(-1))"
   ]
  },
  {
   "cell_type": "code",
   "execution_count": 11,
   "id": "04820e7a",
   "metadata": {},
   "outputs": [
    {
     "data": {
      "text/plain": [
       "(torch.Size([2, 1, 10]), torch.Size([2, 10, 1]))"
      ]
     },
     "execution_count": 11,
     "metadata": {},
     "output_type": "execute_result"
    }
   ],
   "source": [
    "weights.unsqueeze(1).shape, values.unsqueeze(-1).shape"
   ]
  }
 ],
 "metadata": {
  "kernelspec": {
   "display_name": "Python 3 (ipykernel)",
   "language": "python",
   "name": "python3"
  },
  "language_info": {
   "codemirror_mode": {
    "name": "ipython",
    "version": 3
   },
   "file_extension": ".py",
   "mimetype": "text/x-python",
   "name": "python",
   "nbconvert_exporter": "python",
   "pygments_lexer": "ipython3",
   "version": "3.9.19"
  }
 },
 "nbformat": 4,
 "nbformat_minor": 5
}
